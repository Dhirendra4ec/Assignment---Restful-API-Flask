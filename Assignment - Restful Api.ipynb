{
 "cells": [
  {
   "cell_type": "markdown",
   "id": "1b14c857",
   "metadata": {},
   "source": [
    "Restful API & Flask"
   ]
  },
  {
   "cell_type": "markdown",
   "id": "3ef8a9ac",
   "metadata": {},
   "source": [
    "Assignment Questions"
   ]
  },
  {
   "cell_type": "markdown",
   "id": "1b6597d0",
   "metadata": {},
   "source": [
    "Que 1. What is a RESTful API?"
   ]
  },
  {
   "cell_type": "markdown",
   "id": "aa2a7890",
   "metadata": {},
   "source": [
    "Ans : It is a Representational State transfer, An architectural style that uses standard HTTP methods (GET, POST, PUT, DELETE) for web services. REST is lightweight, supports multiple formats (JSON, XML, etc.), and is widely adopted for public APIs. It treats data as resources, each identified by a unique URL. REST is popular for building scalable web services, such as those provided by social media platforms, travel companies, and online marketplaces. "
   ]
  },
  {
   "cell_type": "markdown",
   "id": "3e81f943",
   "metadata": {},
   "source": [
    "Que 2. Explain the concept of API specification?"
   ]
  },
  {
   "cell_type": "markdown",
   "id": "c15bc30f",
   "metadata": {},
   "source": [
    "Ans : API specification refers to a detailed description of how an application programming interface (API) functions. It outlines the methods and data formats that developers can use to interact with the API, ensuring that different software components can communicate effectively.API specifications can be documented using various formats, such as OpenAPI (formerly known as Swagger), RAML, or API Blueprint. These specifications serve as a contract between the API provider and the consumers, ensuring that both parties have a clear understanding of how to interact with the API."
   ]
  },
  {
   "cell_type": "markdown",
   "id": "d489e9d4",
   "metadata": {},
   "source": [
    "Que 3. What is Flask, and why is it popular for building APIs?"
   ]
  },
  {
   "cell_type": "markdown",
   "id": "aadbb6b1",
   "metadata": {},
   "source": [
    "Ans : Flask is a lightweight web framework for Python that simplifies the process of building web applications and APIs. Its popularity stems from its simplicity, flexibility, and extensive support for extensions, making it an ideal choice for developers looking to create RESTful APIs quickly and efficiently.\n",
    "Flask is Popular for Building APIs, for it's Simplicity, RESTful Request Dispatching, Active Community, Integration with Machine Learning, Scalability."
   ]
  },
  {
   "cell_type": "markdown",
   "id": "c8281def",
   "metadata": {},
   "source": [
    "Que 4. what is routing in flask?"
   ]
  },
  {
   "cell_type": "markdown",
   "id": "bb675037",
   "metadata": {},
   "source": [
    "Ans : Routing in Flask refers to the process of mapping URLs to specific functions (also known as view functions) that handle requests for those URLs. When a user makes a request to a particular URL, Flask uses its routing system to determine which function should be executed to generate a response. This is a fundamental aspect of web development, as it allows developers to define how their application responds to different HTTP requests."
   ]
  },
  {
   "cell_type": "markdown",
   "id": "0465898a",
   "metadata": {},
   "source": [
    "Que 5. How do you create a simple Flask application?"
   ]
  },
  {
   "cell_type": "markdown",
   "id": "d8657988",
   "metadata": {},
   "source": [
    "Ans :   from flask import flask\n",
    "\n",
    "        app = Flask(__name__)\n",
    "\n",
    "        @app.route('/')\n",
    "        def Home_page():\n",
    "            return Well come to the Website.\n",
    "\n",
    "        @app.route('/user/<username>')\n",
    "        def user_profile(username):\n",
    "            return f\"User  Profile: {username}\"\n",
    "\n",
    "        if __name__ == '__main__'\n",
    "        app.run(debug = True)      "
   ]
  },
  {
   "cell_type": "markdown",
   "id": "5b40f6ad",
   "metadata": {},
   "source": [
    "Que 6. What are HTTP methods used in RESTful APIs?"
   ]
  },
  {
   "cell_type": "markdown",
   "id": "cdcd0a49",
   "metadata": {},
   "source": [
    "Ans : In RESTful APIs, several HTTP methods are commonly used to perform operations on resources. GET, POST, PUT, PATCH, DELETE."
   ]
  },
  {
   "cell_type": "markdown",
   "id": "aa787a47",
   "metadata": {},
   "source": [
    "Que 7. What is the purpose of the @app.route() decorator in Flask?"
   ]
  },
  {
   "cell_type": "markdown",
   "id": "19834a6a",
   "metadata": {},
   "source": [
    "Ans : In Flask, the @app.route() decorator is used to define the routes for your web application. It associates a specific URL path with a function, which is called a view function. When a client makes a request to that URL, Flask will invoke the corresponding view function to handle the request and return a response.\n",
    "\n",
    "In the Quetion 5, the @app.route('/') decorator maps the root URL to the home function, allowing it to handle requests for different usernames.while @app.route('/user/<username>') maps a dynamic URL to the user_profile function, allowing it to handle requests for different usernames.\n"
   ]
  },
  {
   "cell_type": "markdown",
   "id": "c1508706",
   "metadata": {},
   "source": [
    "Que 8. What is the difference between GET and POST HTTP methods?"
   ]
  },
  {
   "cell_type": "markdown",
   "id": "ce0bc57e",
   "metadata": {},
   "source": [
    "Ans : The GET and POST HTTP methods are two of the most commonly used methods in web development, particularly in RESTful APIs. They serve different purposes and have distinct characteristics.\n",
    "\n",
    "GET:\n",
    "The GET method is used to retrieve data from a server. It requests data from a specified resource without causing any side effects on the server.\n",
    "POST:\n",
    "The POST method is used to send data to the server to create or update a resource. It typically results in a change in the server's state or the creation of a new resource.\n",
    "\n",
    "Data Transmission, Idempotence, Caching\n",
    "\n",
    "the main differences between GET and POST methods lie in their purpose, how they transmit data, their idempotence, caching behavior, and typical use cases. Understanding these differences is crucial for designing effective web applications and APIs."
   ]
  },
  {
   "cell_type": "markdown",
   "id": "c9e4a24e",
   "metadata": {},
   "source": [
    "Que 9. How do you handle errors in Flask APIs?"
   ]
  },
  {
   "cell_type": "markdown",
   "id": "f1fa3695",
   "metadata": {},
   "source": [
    "Ans : \n",
    "- Use Flask's Built-in Error Handling\n",
    "Flask provides a way to handle errors using decorators. You can define custom error handlers for specific HTTP status codes.\n",
    "\n",
    "- Use abort() Function\n",
    "You can use the abort() function to raise HTTP errors. This is useful for quickly returning an error response.\n",
    "\n",
    "- Custom Exception Classes\n",
    "You can create custom exception classes and handle them with a decorator.\n",
    "\n",
    "- Logging Errors\n",
    "It's a good practice to log errors for debugging purposes. You can use Python's built-in logging module.\n",
    "\n",
    "- Global Error Handling\n",
    "You can also set up a global error handler that catches all unhandled exceptions."
   ]
  },
  {
   "cell_type": "markdown",
   "id": "0f5b05ba",
   "metadata": {},
   "source": [
    "Que 10. How do you connect Flask to a SQL database?"
   ]
  },
  {
   "cell_type": "markdown",
   "id": "1135d637",
   "metadata": {},
   "source": [
    "Ans:\n",
    "Ans: from flask import Flask\n",
    "from flask_sqlalchemy import SQLAlchemy\n",
    "\n",
    "app = Flask(__name__)\n",
    "app.config['SQLALCHEMY_DATABASE_URI'] = 'sqlite:///site.db'\n",
    "app.config['SQLALCHEMY_TRACK_MODIFICATIONS'] = False\n",
    "\n",
    "db = SQLAlchemy(app)\n",
    "\n",
    "class User(db.Model):\n",
    "    id = db.Column(db.Integer, primary_key=True)\n",
    "    username = db.Column(db.String(80), unique=True, nullable=False)\n",
    "\n",
    "if __name__ == '__main__':\n",
    "    with app.app_context():\n",
    "        db.create_all()\n",
    "    app.run(debug=True)\n",
    "\n"
   ]
  },
  {
   "cell_type": "markdown",
   "id": "ed39944e",
   "metadata": {},
   "source": [
    "Que 11. What is the role of Flask-SQLAlchemy? \n"
   ]
  },
  {
   "cell_type": "markdown",
   "id": "5d905397",
   "metadata": {},
   "source": [
    "Ans : Flask-SQLAlchemy is an extension for Flask that simplifies the integration of SQLAlchemy, a powerful SQL toolkit and Object-Relational Mapping (ORM) system for Python. It provides a high-level interface for working with databases in Flask applications, making it easier to manage database connections, define models, and perform database operations.\n",
    "\n",
    "- Simplifying database setup and configuration.\n",
    "- Providing an ORM for defining models and interacting with the database.\n",
    "- Facilitating database migrations through integration with Flask-Migrate.\n",
    "- Offering a powerful and intuitive query interface.\n",
    "- Managing database sessions and transactions."
   ]
  },
  {
   "cell_type": "markdown",
   "id": "918cfa94",
   "metadata": {},
   "source": [
    "Que 12. What are Flask blueprints, and how are they useful?"
   ]
  },
  {
   "cell_type": "markdown",
   "id": "d6febabb",
   "metadata": {},
   "source": [
    "Ans : Flask blueprints are a way to organize your Flask application into modular components. They allow you to group related routes, templates, static files, and other resources together, making your application more manageable and scalable."
   ]
  },
  {
   "cell_type": "markdown",
   "id": "167fdaa8",
   "metadata": {},
   "source": [
    "Que 13. What is the purpose of Flask's request object?"
   ]
  },
  {
   "cell_type": "markdown",
   "id": "66ee86a3",
   "metadata": {},
   "source": [
    "Ans : The request object in Flask is essential for handling incoming HTTP requests. It provides a convenient way to access request data, metadata, and other useful information, enabling you to build dynamic and interactive web applications. Understanding how to use the request object effectively is crucial for developing robust Flask applications."
   ]
  },
  {
   "cell_type": "markdown",
   "id": "815b97dd",
   "metadata": {},
   "source": [
    "Que 14. How do you create a RESTful API endpoint using Flask?"
   ]
  },
  {
   "cell_type": "markdown",
   "id": "8d917c08",
   "metadata": {},
   "source": [
    "Ans : Creating a RESTful API endpoint using Flask involves defining routes that correspond to standard HTTP methods (GET, POST, PUT, DELETE) and returning appropriate responses. Below is a step-by-step guide to creating a simple RESTful API endpoint in Flask.\n"
   ]
  },
  {
   "cell_type": "markdown",
   "id": "4833a8b8",
   "metadata": {},
   "source": [
    "Que 15. What is the purpose of Flask's jsonify() function?"
   ]
  },
  {
   "cell_type": "markdown",
   "id": "83486a0b",
   "metadata": {},
   "source": [
    "Ans : The jsonify() function is a powerful and convenient tool in Flask for returning JSON responses. It simplifies the process of creating APIs by handling serialization, setting the correct content type, and ensuring proper encoding of data. By using jsonify(), you can focus on building your application logic without worrying about the intricacies of JSON formatting."
   ]
  },
  {
   "cell_type": "markdown",
   "id": "eb8283ed",
   "metadata": {},
   "source": [
    "Que 16. Explain Flask’s url_for() function."
   ]
  },
  {
   "cell_type": "markdown",
   "id": "748cf909",
   "metadata": {},
   "source": [
    "Ans : The url_for() function is an essential feature in Flask that enhances the flexibility and maintainability of your web applications. By generating URLs dynamically based on view function names, it helps you avoid hardcoding URLs, supports URL parameters, and integrates seamlessly with Flask's routing system. Using url_for() is a best practice when building Flask applications, as it makes your code cleaner and more robust."
   ]
  },
  {
   "cell_type": "markdown",
   "id": "a8425d55",
   "metadata": {},
   "source": [
    "Que 17. How does Flask handle static files (CSS, JavaScript, etc.)?"
   ]
  },
  {
   "cell_type": "markdown",
   "id": "7d5be7c9",
   "metadata": {},
   "source": [
    "Ans : Flask provides a straightforward way to serve static files, such as CSS, JavaScript, images, and other assets, through its built-in static file handling capabilities.\n",
    "Flask provides a simple and effective way to manage static files through the default static folder. By using the url_for() function to reference static files in your templates, you can ensure that your application remains flexible and maintainable. For production environments, it is advisable to use a dedicated web server to serve static assets efficiently."
   ]
  },
  {
   "cell_type": "markdown",
   "id": "b6dcab6c",
   "metadata": {},
   "source": [
    "Que 18. What is an API specification, and how does it help in building a Flask API?"
   ]
  },
  {
   "cell_type": "markdown",
   "id": "b702197a",
   "metadata": {},
   "source": [
    "Ans : An API specification is a crucial element in the development of a Flask API (or any API) as it provides a clear and structured way to define the API's functionality, behavior, and requirements. By creating a comprehensive API specification, you can improve communication, facilitate collaboration, and ensure that the API meets the needs of its users. This ultimately leads to a more robust and maintainable API."
   ]
  },
  {
   "cell_type": "markdown",
   "id": "c39f2a71",
   "metadata": {},
   "source": [
    "Que 19. What are HTTP status codes, and why are they important in a Flask API?"
   ]
  },
  {
   "cell_type": "markdown",
   "id": "6bf9c9cf",
   "metadata": {},
   "source": [
    "Ans : HTTP status codes are standardized codes returned by a web server in response to a client's request. They indicate the outcome of the request and provide information about the status of the requested resource.\n",
    "HTTP status codes are a fundamental aspect of web communication and play a crucial role in the design and functionality of a Flask API. By using appropriate status codes, you can effectively communicate the results of API requests, facilitate error handling, and improve the overall user experience. Understanding and implementing status codes correctly is essential for building robust and user-friendly APIs."
   ]
  },
  {
   "cell_type": "markdown",
   "id": "7a1ffcf4",
   "metadata": {},
   "source": [
    "Que 20. How do you handle POST requests in Flask?"
   ]
  },
  {
   "cell_type": "code",
   "execution_count": null,
   "id": "a628f543",
   "metadata": {},
   "outputs": [],
   "source": [
    "from flask import Flask, request, jsonify\n",
    "\n",
    "app = Flask(__name__)\n",
    "\n",
    "@app.route('/submit', methods=['POST'])\n",
    "def submit():\n",
    "\n",
    "    # Accessing form data\n",
    "    name = request.form.get('name')\n",
    "    age = request.form.get('age')\n",
    "\n",
    "    response = {\n",
    "                'name': name,\n",
    "                'age': age\n",
    "                }\n",
    "    \n",
    "    return jsonify(response), 200\n",
    "\n",
    "if __name__ == '__main__':\n",
    "    app.run(debug=True)\n"
   ]
  },
  {
   "cell_type": "markdown",
   "id": "928c31f0",
   "metadata": {},
   "source": [
    "Que 21 How would you secure a Flask API?"
   ]
  },
  {
   "cell_type": "markdown",
   "id": "d52e51c4",
   "metadata": {},
   "source": [
    "Ans : To secure a Flask API, implement token-based authentication, such as JWT, and use secure cookies with the HttpOnly flag. Additionally, follow best practices like using long, random passwords, validating input, and applying rate limiting to protect against common vulnerabilities."
   ]
  },
  {
   "cell_type": "markdown",
   "id": "ffbf6f40",
   "metadata": {},
   "source": [
    "Que 22. What is the significance of the Flask-RESTful extension?"
   ]
  },
  {
   "cell_type": "markdown",
   "id": "2f9f59b2",
   "metadata": {},
   "source": [
    "Ans : Flask-RESTful is an extension for Flask that simplifies the creation of RESTful APIs. It provides several features and benefits that enhance the development process, making it easier to build and maintain APIs.\n",
    "Flask-RESTful significantly streamlines the process of building RESTful APIs in Flask by providing a structured approach to resource management, automatic routing, input validation, and response formatting."
   ]
  },
  {
   "cell_type": "markdown",
   "id": "429e3608",
   "metadata": {},
   "source": [
    "Que 23. What is the role of Flask’s session object?"
   ]
  },
  {
   "cell_type": "markdown",
   "id": "6d7b3113",
   "metadata": {},
   "source": [
    "Ans :   Flask's session object plays a crucial role in managing user sessions in web applications. It allows you to store information specific to a user across multiple requests, enabling a more personalized experience.\n"
   ]
  },
  {
   "cell_type": "markdown",
   "id": "03a96f57",
   "metadata": {},
   "source": [
    "Practical Quetions"
   ]
  },
  {
   "cell_type": "markdown",
   "id": "b8a8c678",
   "metadata": {},
   "source": [
    "1. How do you create a basic Flask application?"
   ]
  },
  {
   "cell_type": "code",
   "execution_count": null,
   "id": "9a0e1c6c",
   "metadata": {},
   "outputs": [],
   "source": [
    "from flask import flask\n",
    "\n",
    "app = Flask(__name__)\n",
    "\n",
    "@app.route('/')\n",
    "def Home_page():\n",
    "    return \"Well come to the Website.\"\n",
    "\n",
    "@app.route('/user/<username>')\n",
    "def user_profile(username):\n",
    "    return f\"User  Profile: {username}\"\n",
    "\n",
    "if __name__ == '__main__':\n",
    "    app.run(debug = True)  "
   ]
  },
  {
   "cell_type": "markdown",
   "id": "5a963b67",
   "metadata": {},
   "source": [
    "2. How do you serve static files like images or CSS in Flask?"
   ]
  },
  {
   "cell_type": "code",
   "execution_count": null,
   "id": "6905a847",
   "metadata": {},
   "outputs": [],
   "source": [
    "# /your_flask_app\n",
    "#     /static\n",
    "#         /css\n",
    "#             style.css\n",
    "#         /images\n",
    "#             logo.png\n",
    "#     /templates\n",
    "#         index.html\n",
    "#     app.py\n",
    "\n",
    "#------------------------------------------------------\n",
    "\n",
    "from flask import Flask, render_template\n",
    "\n",
    "app = Flask(__name__)\n",
    "\n",
    "@app.route('/')\n",
    "def index():\n",
    "    return render_template('index.html')\n",
    "\n",
    "if __name__ == '__main__':\n",
    "    app.run(debug=True)\n",
    "\n",
    "#-------------------------------------------------------\n",
    "\n",
    "# /* static/css/style.css */\n",
    "# body {\n",
    "#     font-family: Arial, sans-serif;\n",
    "#     background-color: #f0f0f0;\n",
    "# }\n",
    "\n",
    "# h1 {\n",
    "#     color: #333;\n",
    "# }\n",
    "\n",
    "#-------------------------------------------------------\n",
    "\n",
    "# <!DOCTYPE html>\n",
    "# <html lang=\"en\">\n",
    "# <head>\n",
    "#     <meta charset=\"UTF-8\">\n",
    "#     <meta name=\"viewport\" content=\"width=device-width, initial-scale=1.0\">\n",
    "#     <title>Static Files Example</title>\n",
    "#     <link rel=\"stylesheet\" href=\"{{ url_for('static', filename='css/style.css') }}\">\n",
    "# </head>\n",
    "# <body>\n",
    "#     <h1>Welcome to My Flask App</h1>\n",
    "#     <img src=\"{{ url_for('static', filename='images/logo.png') }}\" alt=\"Logo\">\n",
    "# </body>\n",
    "# </html>\n"
   ]
  },
  {
   "cell_type": "markdown",
   "id": "dfe1e9f7",
   "metadata": {},
   "source": [
    "3. How do you define different routes with different HTTP methods in Flask?"
   ]
  },
  {
   "cell_type": "code",
   "execution_count": null,
   "id": "78fd4ca4",
   "metadata": {},
   "outputs": [],
   "source": [
    "from flask import flask, request, jsonify\n",
    "\n",
    "app = Flask(__name__)\n",
    "\n",
    "@app.route('/')\n",
    "def Home_page():\n",
    "    return \"Hello\"\n",
    "\n",
    "@app.route(\"/hello\", methods=['GET'])\n",
    "def hello():\n",
    "    return jsonify({\"msg\":\"This is a GET request\"})\n",
    "\n",
    "@app.route(\"/hello\", methods=['POST'])\n",
    "def hello():\n",
    "    data = request.json\n",
    "    return jsonify({\"msg\":\"This is a POST request\"})\n",
    "\n",
    "@app.route(\"/hello\", methods=['PUT'])\n",
    "def hello():\n",
    "    data = request.json\n",
    "    return jsonify({\"This is a PUT request\"})\n",
    "\n",
    "@app.route(\"/hello\", methods=['DELETE'])\n",
    "def hello():\n",
    "    return jsonify({\"This is a DELETE request\"})\n",
    "\n",
    "\n",
    "if __name__ == \"__main__\":\n",
    "    app.run(debug = True)\n"
   ]
  },
  {
   "cell_type": "markdown",
   "id": "7e41f1bf",
   "metadata": {},
   "source": [
    "4. How do you render HTML templates in Flask?"
   ]
  },
  {
   "cell_type": "code",
   "execution_count": null,
   "id": "bbaeede1",
   "metadata": {},
   "outputs": [],
   "source": [
    "from flask import Flask, render_template\n",
    "\n",
    "app = Flask(__name__)\n",
    "\n",
    "@app.route('/')\n",
    "def home():\n",
    "    return render_template('index.html', title='Home Page', heading='Welcome!', message='This is a Flask app.')\n",
    "\n",
    "if __name__ == '__main__':\n",
    "    app.run(debug=True)\n",
    "   "
   ]
  },
  {
   "cell_type": "markdown",
   "id": "e511580f",
   "metadata": {},
   "source": [
    "5. How can you generate URLs for routes in Flask using url_for?"
   ]
  },
  {
   "cell_type": "code",
   "execution_count": null,
   "id": "c59f47f2",
   "metadata": {},
   "outputs": [],
   "source": [
    "from flask import Flask, url_for\n",
    "\n",
    "app = Flask(__name__)\n",
    "\n",
    "@app.route('/')\n",
    "def index():\n",
    "    return \"Home Page\"\n",
    "\n",
    "@app.route('/user/<username>')\n",
    "def profile(username):\n",
    "    return f\"User: {username}\"\n",
    "\n",
    "# Example of generating URLs inside a request context\n",
    "with app.test_request_context():\n",
    "    print(url_for('index'))               \n",
    "    print(url_for('profile', username='john'))  "
   ]
  },
  {
   "cell_type": "markdown",
   "id": "defc68e1",
   "metadata": {},
   "source": [
    "6. How do you handle forms in Flask?"
   ]
  },
  {
   "cell_type": "code",
   "execution_count": null,
   "id": "f5530c29",
   "metadata": {},
   "outputs": [],
   "source": [
    "from flask import Flask , jsonify , render_template\n",
    "\n",
    "app = Flask(__name__)\n",
    "\n",
    "@app.route('/', methods = ['GET'])\n",
    "def form():\n",
    "    return render_template(\"form.html\")\n",
    "\n",
    "@app.route('/form', methods = ['POST'])\n",
    "def welcome():\n",
    "    return \"We have recived your information.\"\n",
    "\n",
    "\n",
    "if __name__ == \"__main__\":\n",
    "    app.run(debug = True)"
   ]
  },
  {
   "cell_type": "code",
   "execution_count": null,
   "id": "16d49895",
   "metadata": {
    "vscode": {
     "languageId": "html"
    }
   },
   "outputs": [],
   "source": [
    "### Form.html file\n",
    "<!DOCTYPE html>\n",
    "<html lang=\"en\">\n",
    "<head>\n",
    "    <meta charset=\"UTF-8\">\n",
    "    <meta name=\"viewport\" content=\"width=device-width, initial-scale=1.0\">\n",
    "    <title>user form</title>\n",
    "</head>\n",
    "<body>\n",
    "    <form method=\"POST\" action = \"/form\">\n",
    "        <label>Name</label>\n",
    "        <input name = \"Name\" type = \"text\"><br>\n",
    "        <label>Password</label>\n",
    "        <input name = \"Password\" type = \"password\"><br>\n",
    "        <button type = \"submit\">Submit</button>\n",
    "    </form>\n",
    "</body>\n",
    "</html>"
   ]
  },
  {
   "cell_type": "markdown",
   "id": "c840787f",
   "metadata": {},
   "source": [
    "7. How can you validate form data in Flask?"
   ]
  },
  {
   "cell_type": "code",
   "execution_count": null,
   "id": "ff405b74",
   "metadata": {},
   "outputs": [],
   "source": [
    "from flask import Flask , jsonify, request, render_template\n",
    "\n",
    "app = Flask(__name__)\n",
    "\n",
    "@app.route(\"/\", methods=['GET'])\n",
    "def home():\n",
    "    return render_template(\"index.html\")\n",
    "\n",
    "EXPECTED_COLUMNS = ['gestation','parity','age','height','weight','smoke']\n",
    "\n",
    "def get_cleaned_data(form_data):\n",
    "    gestation = float(form_data['gestation'])\n",
    "    parity = int(form_data['parity'])\n",
    "    age = float(form_data['age'])\n",
    "    height = float(form_data['height'])\n",
    "    weight = float(form_data['weight'])\n",
    "    smoke = float(form_data['smoke'])\n",
    "\n",
    "    cleaned_data = {\n",
    "                    \"gestation\":[gestation],\n",
    "                    \"parity\":[parity],\n",
    "                    \"age\":[age],\n",
    "                    \"height\":[height],\n",
    "                    \"weight\":[weight],\n",
    "                    \"smoke\":[smoke]\n",
    "                    }\n",
    "\n",
    "    return cleaned_data\n",
    "\n",
    "# define endpoint\n",
    "@app.route(\"/predict\", methods = ['POST'])\n",
    "def get_prediction():\n",
    "\n",
    "    # get data from user\n",
    "    #baby_data_form = request.form\n",
    "    baby_data_form = request.get_json()\n",
    "\n",
    "    #baby_data_cleaned = get_cleaned_data(baby_data_form)\n",
    "\n",
    "\n",
    "    # convert into dataframe\n",
    "    baby_df = pd.DataFrame(baby_data_form)\n",
    "    baby_df = baby_df[EXPECTED_COLUMNS]\n",
    "\n",
    "    # load machine learning trainde model\n",
    "    path = os.path.join(os.path.dirname(__file__),\"model.pkl\")\n",
    "\n",
    "    with open(\"model/model.pkl\", 'rb') as obj:\n",
    "        model = pickle.load(obj)\n",
    "\n",
    "    # make prediction on user data\n",
    "    prediction = model.predict(baby_df)\n",
    "    prediction = round(float(prediction), 2)\n",
    "\n",
    "    # return response in a json formate\n",
    "    response = {\"prediction\":prediction}\n",
    "\n",
    "    #return render_template(\"index.html\", response=response)\n",
    "    return response\n",
    "if __name__ == '__main__':\n",
    "    app.run(debug=True)"
   ]
  },
  {
   "cell_type": "code",
   "execution_count": null,
   "id": "eabf20fe",
   "metadata": {
    "vscode": {
     "languageId": "html"
    }
   },
   "outputs": [],
   "source": [
    "<!DOCTYPE html>\n",
    "<html lang=\"en\">\n",
    "<head>\n",
    "    <meta charset=\"UTF-8\">\n",
    "    <meta name=\"viewport\" content=\"width=device-width, initial-scale=1.0\">\n",
    "    <title>Birth Weight Form</title>\n",
    "</head>\n",
    "<body>\n",
    "    <h1>\n",
    "        Predict Birth Weight of your child : \n",
    "    </h1>\n",
    "    <form action = \"/predict\" method = \"POST\">\n",
    "        <label>Gestation</label><br>\n",
    "        <input  name = \"gestation\" type = \"number\"><br>\n",
    "\n",
    "        <label>Parity</label><br>\n",
    "        <input  name = \"parity\" type = \"number\"><br>\n",
    "        \n",
    "        <label>Age</label><br>\n",
    "        <input  name = \"age\" type = \"number\"><br>\n",
    "\n",
    "        <label>Height</label><br>\n",
    "        <input  name = \"height\" type = \"number\"><br>\n",
    "\n",
    "        <label>Weight</label><br>\n",
    "        <input  name = \"weight\" type = \"number\"><br>\n",
    "\n",
    "        <label>Smoke</label><br>\n",
    "        <input  name = \"smoke\" type = \"number\"><br>\n",
    "\n",
    "        <button type=\"submit\">Predict Birth Weight </button>\n",
    "\n",
    "    </form>   \n",
    "    <h3>Predicted Birth Weight : {{response}} </h3>\n",
    "    \n",
    "</body>\n",
    "</html>"
   ]
  },
  {
   "cell_type": "markdown",
   "id": "f962fc6d",
   "metadata": {},
   "source": [
    "8. How do you manage sessions in Flask?"
   ]
  },
  {
   "cell_type": "code",
   "execution_count": null,
   "id": "ce597a9c",
   "metadata": {},
   "outputs": [],
   "source": [
    "from flask import Flask, session, redirect, url_for, request, flash\n",
    "import os\n",
    "\n",
    "app = Flask(__name__)\n",
    "app.secret_key = 'your_secret_key'  # Required for session management\n",
    "\n",
    "app.secret_key = os.urandom(24)\n",
    "\n",
    "@app.route('/login', methods=['POST'])\n",
    "def login():\n",
    "    username = request.form['username']\n",
    "    # Assume user authentication is successful\n",
    "    session['username'] = username  # Store username in session\n",
    "    flash('Login successful!')\n",
    "    return redirect(url_for('profile'))\n",
    "\n",
    "@app.route('/profile')\n",
    "def profile():\n",
    "    if 'username' in session:\n",
    "        username = session['username']\n",
    "        return f'Welcome, {username}!'\n",
    "    return 'You are not logged in!'\n",
    "\n",
    "@app.route('/logout')\n",
    "def logout():\n",
    "    session.pop('username', None)  # Remove username from session\n",
    "    flash('You have been logged out.')\n",
    "    return redirect(url_for('login'))\n",
    "\n",
    "if __name__ == '__main__':\n",
    "    app.run(debug=True)\n"
   ]
  },
  {
   "cell_type": "markdown",
   "id": "16a0cdc0",
   "metadata": {},
   "source": [
    "9. How do you redirect to a different route in Flask?"
   ]
  },
  {
   "cell_type": "code",
   "execution_count": null,
   "id": "a95b4fab",
   "metadata": {},
   "outputs": [],
   "source": [
    "from flask import Flask, redirect, url_for, render_template\n",
    "\n",
    "app = Flask(__name__)\n",
    "\n",
    "@app.route('/')\n",
    "def home():\n",
    "    return 'Welcome to the Home Page!'\n",
    "\n",
    "@app.route('/login')\n",
    "def login():\n",
    "    return 'This is the Login Page!'\n",
    "\n",
    "@app.route('/redirect_to_login')\n",
    "def redirect_to_login():\n",
    "    return redirect(url_for('login'))\n",
    "\n",
    "if __name__ == '__main__':\n",
    "    app.run(debug=True)\n"
   ]
  },
  {
   "cell_type": "markdown",
   "id": "7f60369e",
   "metadata": {},
   "source": [
    "10. How do you handle errors in Flask (e.g., 404)?"
   ]
  },
  {
   "cell_type": "code",
   "execution_count": null,
   "id": "a2ed51a2",
   "metadata": {},
   "outputs": [],
   "source": [
    "from app import app\n",
    "import pytest\n",
    "\n",
    "## positive test case for \"/predict\" route \n",
    "\n",
    "def test_predict_route_success():\n",
    "    tester = app.test_client()\n",
    "\n",
    "    data = {\"gestation\":[279],\n",
    "            \"parity\":[1],\n",
    "            \"age\":[27],\n",
    "            \"height\":[164],\n",
    "            \"weight\":[52],\n",
    "            \"smoke\":[0]\n",
    "                }\n",
    "\n",
    "    response = tester.post(\"/predict\", json = data)\n",
    "\n",
    "    assert response.status_code == 400\n",
    "\n",
    "\n",
    "\n",
    "def test_predict_route_wrong_url():\n",
    "    tester = app.test_client()\n",
    "\n",
    "    data = {\"gestation\":[279],\n",
    "            \"parity\":[0],\n",
    "            \"age\":[27],\n",
    "            \"height\":[70],\n",
    "            \"weight\":[100],\n",
    "            \"smoke\":[0]\n",
    "            }\n",
    "    response = tester.post(\"/oredict\", json=data)\n",
    "\n",
    "    assert response.status_code==404\n",
    "\n",
    "\n",
    "def test_predict_route_wrong_method():\n",
    "    tester = app.test_client()\n",
    "\n",
    "    data = {\"gestation\":[279],\n",
    "            \"parity\":[0],\n",
    "            \"age\":[27],\n",
    "            \"height\":[70],\n",
    "            \"weight\":[100],\n",
    "            \"smoke\":[0]\n",
    "            }\n",
    "    response = tester.get(\"/predict\", json=data)\n",
    "\n",
    "    assert response.status_code==405"
   ]
  },
  {
   "cell_type": "markdown",
   "id": "7e462f1c",
   "metadata": {},
   "source": [
    "11. How do you structure a Flask app using Blueprints?"
   ]
  },
  {
   "cell_type": "code",
   "execution_count": null,
   "id": "77402630",
   "metadata": {},
   "outputs": [],
   "source": [
    "from flask import Flask, request\n",
    "from routes import predict, user\n",
    "from extensions import cache\n",
    "\n",
    "app = Flask(__name__)\n",
    "\n",
    "\n",
    "## import your blueprints here and register\n",
    "app.register_blueprint(user.user_bp) \n",
    "app.register_blueprint(predict.predict_bp)\n",
    "\n",
    "\n",
    "if __name__ == '__main__':\n",
    "    app.run(debug=True)"
   ]
  },
  {
   "cell_type": "markdown",
   "id": "9e9c7efe",
   "metadata": {},
   "source": [
    "12. How do you define a custom Jinja filter in Flask?"
   ]
  },
  {
   "cell_type": "code",
   "execution_count": null,
   "id": "7465589e",
   "metadata": {},
   "outputs": [],
   "source": [
    "from flask import Flask, render_template\n",
    "\n",
    "app = Flask(__name__)\n",
    "\n",
    "@app.route('/')\n",
    "def index():\n",
    "    return render_template('index.html')\n",
    "\n",
    "def capitalize_words(s):\n",
    "    if isinstance(s, str):\n",
    "        return ' '.join(word.capitalize() for word in s.split())\n",
    "    return s\n",
    "\n",
    "if __name__ == '__main__':\n",
    "    app.run(debug=True)\n"
   ]
  },
  {
   "cell_type": "markdown",
   "id": "36285ab6",
   "metadata": {},
   "source": [
    "<!DOCTYPE html>\n",
    "<html lang=\"en\">\n",
    "<head>\n",
    "    <meta charset=\"UTF-8\">\n",
    "    <meta name=\"viewport\" content=\"width=device-width, initial-scale=1.0\">\n",
    "    <title>Custom Jinja Filter</title>\n",
    "</head>\n",
    "<body>\n",
    "    <h1>{{ \"hello world from flask!\" | capitalize }}</h1>\n",
    "</body>\n",
    "</html>"
   ]
  },
  {
   "cell_type": "markdown",
   "id": "32cd67da",
   "metadata": {},
   "source": [
    "13. How can you redirect with query parameters in Flask?"
   ]
  },
  {
   "cell_type": "code",
   "execution_count": null,
   "id": "c5720eb0",
   "metadata": {},
   "outputs": [],
   "source": [
    "app = Flask(__name__)\n",
    "\n",
    "@app.route('/')\n",
    "def index():\n",
    "    return 'Welcome to the Index Page!'\n",
    "\n",
    "@app.route('/redirect_example')\n",
    "def redirect_example():\n",
    "    # Redirect to the 'target' route with query parameters\n",
    "    return redirect(url_for('target', param1='value1', param2='value2'))\n",
    "\n",
    "@app.route('/target')\n",
    "def target():\n",
    "    # Access query parameters\n",
    "    param1 = request.args.get('param1')\n",
    "    param2 = request.args.get('param2')\n",
    "    return f'Target Page! param1: {param1}, param2: {param2}'\n",
    "\n",
    "if __name__ == '__main__':\n",
    "    app.run(debug=True)\n"
   ]
  },
  {
   "cell_type": "markdown",
   "id": "6276df76",
   "metadata": {},
   "source": [
    "14. How do you return JSON responses in Flask?"
   ]
  },
  {
   "cell_type": "code",
   "execution_count": null,
   "id": "48f363d1",
   "metadata": {},
   "outputs": [],
   "source": [
    "from flask import jsonify, make_response\n",
    "\n",
    "@app.route('/api/data')\n",
    "def get_data():\n",
    "    data = {'name': 'Alice', 'age': 30}\n",
    "    return jsonify(data)\n",
    "\n",
    "@app.route('/api/data')\n",
    "def get_data():\n",
    "    data = {'status': 'success'}\n",
    "    response = make_response(jsonify(data), 201)\n",
    "    response.headers['Custom-Header'] = 'Value'\n",
    "    return response"
   ]
  },
  {
   "cell_type": "code",
   "execution_count": null,
   "id": "50ba9303",
   "metadata": {},
   "outputs": [],
   "source": [
    "API_KEY  = \"YOUR_API_KEY\"\n",
    "\n",
    "url = \"https://newsapi.org/v2/everything?q=tesla&from=2025-03-29&sortBy=publishedAt&apiKey={}\".format(API_KEY)\n",
    "\n",
    "import requests\n",
    "\n",
    "response = requests.get(url)\n",
    "news_data = response.json()\n",
    "total_articles = len(news_data['articles'])\n",
    "first_article = news_data['articles'][0]\n",
    "author = first_article['author']\n",
    "title = first_article['title']\n",
    "publishedAt = first_article['publishedAt']\n",
    "\n",
    "output_data = {\"Total Article Count\":total_articles,\n",
    "               \"Title\":title,\n",
    "               \"Author\":author,\n",
    "               \"Published Date\":publishedAt}"
   ]
  },
  {
   "cell_type": "markdown",
   "id": "ad1384ef",
   "metadata": {},
   "source": [
    "15. How do you capture URL parameters in Flask?"
   ]
  },
  {
   "cell_type": "code",
   "execution_count": null,
   "id": "8084daeb",
   "metadata": {},
   "outputs": [],
   "source": [
    "from flask import request\n",
    "\n",
    "app = Flask(__name__)\n",
    "\n",
    "@app.route('/')\n",
    "def index():\n",
    "    return 'Welcome to the Index Page!'\n",
    "\n",
    "@app.route('/user/<username>')\n",
    "def show_user_profile(username):\n",
    "    return f':User  {username}'\n",
    "\n",
    "@app.route('/post/<int:post_id>')\n",
    "def show_post(post_id):\n",
    "    return f'Post ID: {post_id}'\n",
    "\n",
    "if __name__ == '__main__':\n",
    "    app.run(debug=True)"
   ]
  },
  {
   "cell_type": "markdown",
   "id": "c08e06b2",
   "metadata": {},
   "source": []
  }
 ],
 "metadata": {
  "kernelspec": {
   "display_name": "Python 3",
   "language": "python",
   "name": "python3"
  },
  "language_info": {
   "codemirror_mode": {
    "name": "ipython",
    "version": 3
   },
   "file_extension": ".py",
   "mimetype": "text/x-python",
   "name": "python",
   "nbconvert_exporter": "python",
   "pygments_lexer": "ipython3",
   "version": "3.13.5"
  }
 },
 "nbformat": 4,
 "nbformat_minor": 5
}
